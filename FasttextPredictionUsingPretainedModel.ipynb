{
  "nbformat": 4,
  "nbformat_minor": 0,
  "metadata": {
    "colab": {
      "name": "FasttextPredictionUsingPretainedModel.ipynb",
      "provenance": [],
      "authorship_tag": "ABX9TyNHz13pSeo+K1sTtIbros6+",
      "include_colab_link": true
    },
    "kernelspec": {
      "name": "python3",
      "display_name": "Python 3"
    },
    "language_info": {
      "name": "python"
    }
  },
  "cells": [
    {
      "cell_type": "markdown",
      "metadata": {
        "id": "view-in-github",
        "colab_type": "text"
      },
      "source": [
        "<a href=\"https://colab.research.google.com/github/MithunCm29/MachineLearning/blob/main/FasttextPredictionUsingPretainedModel.ipynb\" target=\"_parent\"><img src=\"https://colab.research.google.com/assets/colab-badge.svg\" alt=\"Open In Colab\"/></a>"
      ]
    },
    {
      "cell_type": "code",
      "metadata": {
        "colab": {
          "base_uri": "https://localhost:8080/"
        },
        "id": "JQr3vP4z1iYQ",
        "outputId": "ba3fc971-e970-44e6-f50e-7a14b44d964c"
      },
      "source": [
        "from google.colab import drive\n",
        "drive.mount(\"/content/gdrive\")"
      ],
      "execution_count": 1,
      "outputs": [
        {
          "output_type": "stream",
          "text": [
            "Mounted at /content/gdrive\n"
          ],
          "name": "stdout"
        }
      ]
    },
    {
      "cell_type": "code",
      "metadata": {
        "colab": {
          "base_uri": "https://localhost:8080/"
        },
        "id": "xBcHqmwU3Zjt",
        "outputId": "913815c1-5441-4efc-d11b-236d65e616c9"
      },
      "source": [
        "import nltk\n",
        "nltk.download('stopwords')\n",
        "!pip install fasttext\n",
        "import pandas as pd\n",
        "import re\n",
        "import fasttext\n",
        "!pip install spacy\n",
        "from nltk.corpus import stopwords\n",
        "import numpy as np\n",
        "import spacy\n",
        "nlp = spacy.load('en_core_web_sm', disable = ['parser', 'ner'])\n",
        "stop = stopwords.words('english')\n",
        "pd.set_option('display.max_colwidth', -1)"
      ],
      "execution_count": 16,
      "outputs": [
        {
          "output_type": "stream",
          "text": [
            "[nltk_data] Downloading package stopwords to /root/nltk_data...\n",
            "[nltk_data]   Package stopwords is already up-to-date!\n",
            "Requirement already satisfied: fasttext in /usr/local/lib/python3.7/dist-packages (0.9.2)\n",
            "Requirement already satisfied: setuptools>=0.7.0 in /usr/local/lib/python3.7/dist-packages (from fasttext) (57.2.0)\n",
            "Requirement already satisfied: pybind11>=2.2 in /usr/local/lib/python3.7/dist-packages (from fasttext) (2.7.0)\n",
            "Requirement already satisfied: numpy in /usr/local/lib/python3.7/dist-packages (from fasttext) (1.19.5)\n",
            "Requirement already satisfied: spacy in /usr/local/lib/python3.7/dist-packages (2.2.4)\n",
            "Requirement already satisfied: srsly<1.1.0,>=1.0.2 in /usr/local/lib/python3.7/dist-packages (from spacy) (1.0.5)\n",
            "Requirement already satisfied: tqdm<5.0.0,>=4.38.0 in /usr/local/lib/python3.7/dist-packages (from spacy) (4.41.1)\n",
            "Requirement already satisfied: wasabi<1.1.0,>=0.4.0 in /usr/local/lib/python3.7/dist-packages (from spacy) (0.8.2)\n",
            "Requirement already satisfied: preshed<3.1.0,>=3.0.2 in /usr/local/lib/python3.7/dist-packages (from spacy) (3.0.5)\n",
            "Requirement already satisfied: plac<1.2.0,>=0.9.6 in /usr/local/lib/python3.7/dist-packages (from spacy) (1.1.3)\n",
            "Requirement already satisfied: thinc==7.4.0 in /usr/local/lib/python3.7/dist-packages (from spacy) (7.4.0)\n",
            "Requirement already satisfied: catalogue<1.1.0,>=0.0.7 in /usr/local/lib/python3.7/dist-packages (from spacy) (1.0.0)\n",
            "Requirement already satisfied: numpy>=1.15.0 in /usr/local/lib/python3.7/dist-packages (from spacy) (1.19.5)\n",
            "Requirement already satisfied: blis<0.5.0,>=0.4.0 in /usr/local/lib/python3.7/dist-packages (from spacy) (0.4.1)\n",
            "Requirement already satisfied: requests<3.0.0,>=2.13.0 in /usr/local/lib/python3.7/dist-packages (from spacy) (2.23.0)\n",
            "Requirement already satisfied: murmurhash<1.1.0,>=0.28.0 in /usr/local/lib/python3.7/dist-packages (from spacy) (1.0.5)\n",
            "Requirement already satisfied: setuptools in /usr/local/lib/python3.7/dist-packages (from spacy) (57.2.0)\n",
            "Requirement already satisfied: cymem<2.1.0,>=2.0.2 in /usr/local/lib/python3.7/dist-packages (from spacy) (2.0.5)\n",
            "Requirement already satisfied: importlib-metadata>=0.20 in /usr/local/lib/python3.7/dist-packages (from catalogue<1.1.0,>=0.0.7->spacy) (4.6.1)\n",
            "Requirement already satisfied: zipp>=0.5 in /usr/local/lib/python3.7/dist-packages (from importlib-metadata>=0.20->catalogue<1.1.0,>=0.0.7->spacy) (3.5.0)\n",
            "Requirement already satisfied: typing-extensions>=3.6.4 in /usr/local/lib/python3.7/dist-packages (from importlib-metadata>=0.20->catalogue<1.1.0,>=0.0.7->spacy) (3.7.4.3)\n",
            "Requirement already satisfied: idna<3,>=2.5 in /usr/local/lib/python3.7/dist-packages (from requests<3.0.0,>=2.13.0->spacy) (2.10)\n",
            "Requirement already satisfied: certifi>=2017.4.17 in /usr/local/lib/python3.7/dist-packages (from requests<3.0.0,>=2.13.0->spacy) (2021.5.30)\n",
            "Requirement already satisfied: urllib3!=1.25.0,!=1.25.1,<1.26,>=1.21.1 in /usr/local/lib/python3.7/dist-packages (from requests<3.0.0,>=2.13.0->spacy) (1.24.3)\n",
            "Requirement already satisfied: chardet<4,>=3.0.2 in /usr/local/lib/python3.7/dist-packages (from requests<3.0.0,>=2.13.0->spacy) (3.0.4)\n"
          ],
          "name": "stdout"
        },
        {
          "output_type": "stream",
          "text": [
            "/usr/local/lib/python3.7/dist-packages/ipykernel_launcher.py:13: FutureWarning: Passing a negative integer is deprecated in version 1.0 and will not be supported in future version. Instead, use None to not limit the column width.\n",
            "  del sys.path[0]\n"
          ],
          "name": "stderr"
        }
      ]
    },
    {
      "cell_type": "code",
      "metadata": {
        "id": "lmIyrbuf2lYV"
      },
      "source": [
        "def clear(mystr):\n",
        "    mystr = str(mystr).lower()\n",
        "    #clearstring = re.sub('[^a-zA-Z0-9 \\n\\.]', Replacement, mystr)\n",
        "    clearstring = re.sub(\"@[a-zA-Z0-9_]+\", \"\", mystr)\n",
        "    clearstring = re.sub(\"#[a-zA-Z0-9_]+\", \"\", clearstring)\n",
        "    clearstring = re.sub(r\"http\\S+\", \"\", clearstring)\n",
        "    clearstring = re.sub(\"[^a-z]\", \" \", clearstring)\n",
        "    clearstring = nlp(clearstring)\n",
        "    clearstring = [tok.lemma_ for tok in clearstring]\n",
        "    clearstring = ' '.join(clearstring)\n",
        "    return clearstring\n",
        "def evaluate(df,modelpath):\n",
        "    df['sentiment'] = [label.upper() for label in df['sentiment_distilbert']] # sentiment is label column\n",
        "    df['text'] = [clear(txt) for txt in df['tweet']] # text column is tweets or texts\n",
        "    model = fasttext.load_model(modelpath)\n",
        "    df['predictedsentiment'] = [model.predict(txt)[0][0].split(\"__\")[2] for txt in df['text']]\n",
        "    confusion_matrix = pd.crosstab(df['sentiment'], df['predictedsentiment'], rownames=['Actual'], colnames=['Predicted'])\n",
        "    print(\"\\nConfusion Matrix]\",confusion_matrix)\n",
        "    print(\"\\n\\n\")\n",
        "    print(\"\\nAccuracy: \", accuracy_score(df['sentiment'], df['predictedsentiment']))\n",
        "    \n"
      ],
      "execution_count": 2,
      "outputs": []
    },
    {
      "cell_type": "code",
      "metadata": {
        "id": "-Quu1fRu3HSk"
      },
      "source": [
        "from sklearn.metrics import accuracy_score\n",
        "modelpath = \"/content/gdrive/MyDrive/PretrainModel/Sentiment_model_v5.ftz\" #change to model path"
      ],
      "execution_count": 17,
      "outputs": []
    },
    {
      "cell_type": "code",
      "metadata": {
        "id": "G-u5Rg9-32AM"
      },
      "source": [
        "data1 = pd.read_csv(\"/content/gdrive/MyDrive/HaixData/labelled data  - mindvalley_distilbert_16-07.csv\",encoding= 'unicode_escape')\n",
        "data2 = pd.read_csv(\"/content/gdrive/MyDrive/HaixData/labelled data  - hsbc_distilbert_16-07.csv\",encoding= 'unicode_escape')\n",
        "data = pd.concat([data1,data2])"
      ],
      "execution_count": 18,
      "outputs": []
    },
    {
      "cell_type": "code",
      "metadata": {
        "colab": {
          "base_uri": "https://localhost:8080/"
        },
        "id": "xw2ZOWzp4pO0",
        "outputId": "9a5daf53-e636-450b-d691-05f3cca8ba93"
      },
      "source": [
        "evaluate(data, modelpath)"
      ],
      "execution_count": 19,
      "outputs": [
        {
          "output_type": "stream",
          "text": [
            "Warning : `load_model` does not return WordVectorModel or SupervisedModel any more, but a `FastText` object which is very similar.\n"
          ],
          "name": "stderr"
        },
        {
          "output_type": "stream",
          "text": [
            "\n",
            "Confusion Matrix] Predicted  NEGATIVE  NEUTRAL  POSITIVE\n",
            "Actual                                \n",
            "NEGATIVE   77        21       3       \n",
            "NEUTRAL    54        134      11      \n",
            "POSITIVE   4         38       36      \n",
            "\n",
            "\n",
            "\n",
            "\n",
            "Accuracy:  0.6534391534391535\n"
          ],
          "name": "stdout"
        }
      ]
    }
  ]
}