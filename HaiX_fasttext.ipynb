{
  "nbformat": 4,
  "nbformat_minor": 0,
  "metadata": {
    "colab": {
      "name": "HaiX_fasttext.ipynb",
      "provenance": [],
      "authorship_tag": "ABX9TyN47MPkV9hPEOaOciSKI8Be",
      "include_colab_link": true
    },
    "kernelspec": {
      "name": "python3",
      "display_name": "Python 3"
    },
    "language_info": {
      "name": "python"
    }
  },
  "cells": [
    {
      "cell_type": "markdown",
      "metadata": {
        "id": "view-in-github",
        "colab_type": "text"
      },
      "source": [
        "<a href=\"https://colab.research.google.com/github/MithunCm29/MachineLearning/blob/main/HaiX_fasttext.ipynb\" target=\"_parent\"><img src=\"https://colab.research.google.com/assets/colab-badge.svg\" alt=\"Open In Colab\"/></a>"
      ]
    },
    {
      "cell_type": "code",
      "metadata": {
        "colab": {
          "base_uri": "https://localhost:8080/"
        },
        "id": "FD9EFRtyszIT",
        "outputId": "6b8e0c09-9030-4017-e006-6b92260a854b"
      },
      "source": [
        "from google.colab import drive\n",
        "drive.mount(\"/content/gdrive\")"
      ],
      "execution_count": 2,
      "outputs": [
        {
          "output_type": "stream",
          "text": [
            "Mounted at /content/gdrive\n"
          ],
          "name": "stdout"
        }
      ]
    },
    {
      "cell_type": "code",
      "metadata": {
        "colab": {
          "base_uri": "https://localhost:8080/"
        },
        "id": "TSurSA4Mv4OG",
        "outputId": "d496f992-7f22-4c39-fb08-f7d1517fcefe"
      },
      "source": [
        "import nltk\n",
        "nltk.download('stopwords')\n",
        "!pip install fasttext\n",
        "import pandas as pd\n",
        "import re\n",
        "import fasttext\n",
        "!pip install spacy\n",
        "from nltk.corpus import stopwords\n",
        "import numpy as np\n",
        "import spacy\n",
        "nlp = spacy.load('en_core_web_sm', disable = ['parser', 'ner'])\n",
        "stop = stopwords.words('english')\n",
        "pd.set_option('display.max_colwidth', -1)"
      ],
      "execution_count": 3,
      "outputs": [
        {
          "output_type": "stream",
          "text": [
            "[nltk_data] Downloading package stopwords to /root/nltk_data...\n",
            "[nltk_data]   Unzipping corpora/stopwords.zip.\n",
            "Collecting fasttext\n",
            "  Downloading fasttext-0.9.2.tar.gz (68 kB)\n",
            "\u001b[K     |████████████████████████████████| 68 kB 4.2 MB/s \n",
            "\u001b[?25hCollecting pybind11>=2.2\n",
            "  Using cached pybind11-2.7.0-py2.py3-none-any.whl (199 kB)\n",
            "Requirement already satisfied: setuptools>=0.7.0 in /usr/local/lib/python3.7/dist-packages (from fasttext) (57.2.0)\n",
            "Requirement already satisfied: numpy in /usr/local/lib/python3.7/dist-packages (from fasttext) (1.19.5)\n",
            "Building wheels for collected packages: fasttext\n",
            "  Building wheel for fasttext (setup.py) ... \u001b[?25l\u001b[?25hdone\n",
            "  Created wheel for fasttext: filename=fasttext-0.9.2-cp37-cp37m-linux_x86_64.whl size=3093415 sha256=331eceff0acf37ea4579aa8c7971846374c221133875fd73a4c9c1f63234211e\n",
            "  Stored in directory: /root/.cache/pip/wheels/4e/ca/bf/b020d2be95f7641801a6597a29c8f4f19e38f9c02a345bab9b\n",
            "Successfully built fasttext\n",
            "Installing collected packages: pybind11, fasttext\n",
            "Successfully installed fasttext-0.9.2 pybind11-2.7.0\n",
            "Requirement already satisfied: spacy in /usr/local/lib/python3.7/dist-packages (2.2.4)\n",
            "Requirement already satisfied: murmurhash<1.1.0,>=0.28.0 in /usr/local/lib/python3.7/dist-packages (from spacy) (1.0.5)\n",
            "Requirement already satisfied: numpy>=1.15.0 in /usr/local/lib/python3.7/dist-packages (from spacy) (1.19.5)\n",
            "Requirement already satisfied: thinc==7.4.0 in /usr/local/lib/python3.7/dist-packages (from spacy) (7.4.0)\n",
            "Requirement already satisfied: plac<1.2.0,>=0.9.6 in /usr/local/lib/python3.7/dist-packages (from spacy) (1.1.3)\n",
            "Requirement already satisfied: requests<3.0.0,>=2.13.0 in /usr/local/lib/python3.7/dist-packages (from spacy) (2.23.0)\n",
            "Requirement already satisfied: setuptools in /usr/local/lib/python3.7/dist-packages (from spacy) (57.2.0)\n",
            "Requirement already satisfied: wasabi<1.1.0,>=0.4.0 in /usr/local/lib/python3.7/dist-packages (from spacy) (0.8.2)\n",
            "Requirement already satisfied: tqdm<5.0.0,>=4.38.0 in /usr/local/lib/python3.7/dist-packages (from spacy) (4.41.1)\n",
            "Requirement already satisfied: blis<0.5.0,>=0.4.0 in /usr/local/lib/python3.7/dist-packages (from spacy) (0.4.1)\n",
            "Requirement already satisfied: cymem<2.1.0,>=2.0.2 in /usr/local/lib/python3.7/dist-packages (from spacy) (2.0.5)\n",
            "Requirement already satisfied: preshed<3.1.0,>=3.0.2 in /usr/local/lib/python3.7/dist-packages (from spacy) (3.0.5)\n",
            "Requirement already satisfied: srsly<1.1.0,>=1.0.2 in /usr/local/lib/python3.7/dist-packages (from spacy) (1.0.5)\n",
            "Requirement already satisfied: catalogue<1.1.0,>=0.0.7 in /usr/local/lib/python3.7/dist-packages (from spacy) (1.0.0)\n",
            "Requirement already satisfied: importlib-metadata>=0.20 in /usr/local/lib/python3.7/dist-packages (from catalogue<1.1.0,>=0.0.7->spacy) (4.6.1)\n",
            "Requirement already satisfied: typing-extensions>=3.6.4 in /usr/local/lib/python3.7/dist-packages (from importlib-metadata>=0.20->catalogue<1.1.0,>=0.0.7->spacy) (3.7.4.3)\n",
            "Requirement already satisfied: zipp>=0.5 in /usr/local/lib/python3.7/dist-packages (from importlib-metadata>=0.20->catalogue<1.1.0,>=0.0.7->spacy) (3.5.0)\n",
            "Requirement already satisfied: certifi>=2017.4.17 in /usr/local/lib/python3.7/dist-packages (from requests<3.0.0,>=2.13.0->spacy) (2021.5.30)\n",
            "Requirement already satisfied: urllib3!=1.25.0,!=1.25.1,<1.26,>=1.21.1 in /usr/local/lib/python3.7/dist-packages (from requests<3.0.0,>=2.13.0->spacy) (1.24.3)\n",
            "Requirement already satisfied: idna<3,>=2.5 in /usr/local/lib/python3.7/dist-packages (from requests<3.0.0,>=2.13.0->spacy) (2.10)\n",
            "Requirement already satisfied: chardet<4,>=3.0.2 in /usr/local/lib/python3.7/dist-packages (from requests<3.0.0,>=2.13.0->spacy) (3.0.4)\n"
          ],
          "name": "stdout"
        },
        {
          "output_type": "stream",
          "text": [
            "/usr/local/lib/python3.7/dist-packages/ipykernel_launcher.py:13: FutureWarning: Passing a negative integer is deprecated in version 1.0 and will not be supported in future version. Instead, use None to not limit the column width.\n",
            "  del sys.path[0]\n"
          ],
          "name": "stderr"
        }
      ]
    },
    {
      "cell_type": "code",
      "metadata": {
        "id": "M9yNRDr7wIH5"
      },
      "source": [
        "#Data Reading\n",
        "data = pd.read_csv(\"/content/gdrive/MyDrive/HaixData/labelled data  - Mithun_Ishita_mindvalley_TO DO.csv\",encoding= 'unicode_escape')\n",
        "test= pd.read_csv(\"/content/gdrive/MyDrive/HaixData/labelled data  - mindvalley_distilbert_16-07.csv\",encoding= 'unicode_escape')\n",
        "df = pd.read_csv(\"/content/gdrive/MyDrive/HaixData/labelled data  - Testing Data.csv\",encoding= 'unicode_escape')"
      ],
      "execution_count": 4,
      "outputs": []
    },
    {
      "cell_type": "code",
      "metadata": {
        "id": "j4h3D9Drw8YV"
      },
      "source": [
        "def process_text(mystr):\n",
        "        text = str(mystr)\n",
        "        #clearstring = re.sub('[^a-zA-Z0-9 \\n\\.]', Replacement, mystr)\n",
        "        text = text.lower()\n",
        "        text = re.sub(\"@[a-z0-9_-]+\",\"\", text)        #Removing @mentions\n",
        "        text = re.sub(\"#[a-z0-9-_]+\", \"\", text)       #Removing #Hashtags\n",
        "        text = re.sub(r\"http\\S+\", \"\", text)\n",
        "        text = re.sub(\"[^a-z]\", \" \", text)\n",
        "        text = re.sub(\"\\n\",\"\", text)\n",
        "        text = re.sub(\"^\\[a-z0-9]+\",\"\", text)\n",
        "        text = nlp(text)\n",
        "        text = [tok.lemma_ for tok in text]\n",
        "        text = ' '.join(text)        \n",
        "        return text"
      ],
      "execution_count": 5,
      "outputs": []
    },
    {
      "cell_type": "code",
      "metadata": {
        "id": "nn8HvhbvxDo3"
      },
      "source": [
        "#Data Process for training\n",
        "data['Processed_Text'] = [process_text(text) for text in data['tweet']]\n",
        "data['Consolidated.1'] = [label.upper() for label in data['Consolidated.1']]\n",
        "data[\"Final\"] = \"__label__\" + data['Consolidated.1'] +\" \"+ data['Processed_Text']"
      ],
      "execution_count": 8,
      "outputs": []
    },
    {
      "cell_type": "code",
      "metadata": {
        "id": "gjZLwPrXxYwk"
      },
      "source": [
        "#Data Process for Testing\n",
        "test['Processed_Text'] = [process_text(text) for text in test['tweet']]\n",
        "test['sentiment_distilbert'] = [label.upper() for label in test['sentiment_distilbert']]\n",
        "test[\"Final\"] = \"__label__\" + test['sentiment_distilbert'] +\" \"+ test['Processed_Text']"
      ],
      "execution_count": 9,
      "outputs": []
    },
    {
      "cell_type": "code",
      "metadata": {
        "id": "M4TbDcHuyVBo"
      },
      "source": [
        "#Data Process For predicting\n",
        "df['text'] = [process_text(text) for text in df['tweet']]"
      ],
      "execution_count": 10,
      "outputs": []
    },
    {
      "cell_type": "code",
      "metadata": {
        "id": "CzqV-7pOytlL"
      },
      "source": [
        "with open('/content/sentiment_fasttext_train_New_All.txt', 'w',encoding=\"utf-8\") as f:\n",
        "    for item in data[\"Final\"]:\n",
        "        f.write(\"%s\\n\" % item)\n",
        "with open('/content/sentiment_fasttext_test_New_All.txt', 'w',encoding=\"utf-8\") as f:\n",
        "    for item in test[\"Final\"]:\n",
        "        f.write(\"%s\\n\" % item)"
      ],
      "execution_count": 11,
      "outputs": []
    },
    {
      "cell_type": "code",
      "metadata": {
        "id": "ldRGnd7pzC9h"
      },
      "source": [
        "#Model Train\n",
        "model = fasttext.train_supervised(input=\"/content/sentiment_fasttext_train_New_All.txt\",lr=0.1, epoch=10, bucket=2000000, dim=300, loss='softmax', wordNgrams=2, autotuneValidationFile=\"/content/sentiment_fasttext_train_New_All.txt\")"
      ],
      "execution_count": 12,
      "outputs": []
    },
    {
      "cell_type": "code",
      "metadata": {
        "colab": {
          "base_uri": "https://localhost:8080/"
        },
        "id": "FypUYEzszQ8n",
        "outputId": "25c1f60f-ec58-4bd8-8532-2788acc3877d"
      },
      "source": [
        "#Model Test\n",
        "model.test(\"/content/sentiment_fasttext_test_New_All.txt\")"
      ],
      "execution_count": 13,
      "outputs": [
        {
          "output_type": "execute_result",
          "data": {
            "text/plain": [
              "(178, 0.6460674157303371, 0.6460674157303371)"
            ]
          },
          "metadata": {
            "tags": []
          },
          "execution_count": 13
        }
      ]
    },
    {
      "cell_type": "code",
      "metadata": {
        "colab": {
          "base_uri": "https://localhost:8080/"
        },
        "id": "-jQB7yHuzUy_",
        "outputId": "4ff85fe9-51c1-4243-f1f1-81203d4e6a2c"
      },
      "source": [
        "#Model Predict\n",
        "df['predictedsentiment'] = [model.predict(txt)[0][0].split(\"__\")[2] for txt in df['text']]\n",
        "print(df['predictedsentiment'])\n"
      ],
      "execution_count": 14,
      "outputs": [
        {
          "output_type": "stream",
          "text": [
            "0        NEUTRAL\n",
            "1        NEUTRAL\n",
            "2        NEUTRAL\n",
            "3        NEUTRAL\n",
            "4        NEUTRAL\n",
            "          ...   \n",
            "21228    NEUTRAL\n",
            "21229    NEUTRAL\n",
            "21230    NEUTRAL\n",
            "21231    NEUTRAL\n",
            "21232    NEUTRAL\n",
            "Name: predictedsentiment, Length: 21233, dtype: object\n"
          ],
          "name": "stdout"
        }
      ]
    }
  ]
}