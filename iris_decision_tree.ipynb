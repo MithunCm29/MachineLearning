{
  "nbformat": 4,
  "nbformat_minor": 0,
  "metadata": {
    "colab": {
      "name": "iris_decision_tree.ipynb",
      "provenance": [],
      "authorship_tag": "ABX9TyOL/LfWOuf5eDM1wnla664s",
      "include_colab_link": true
    },
    "kernelspec": {
      "name": "python3",
      "display_name": "Python 3"
    },
    "language_info": {
      "name": "python"
    }
  },
  "cells": [
    {
      "cell_type": "markdown",
      "metadata": {
        "id": "view-in-github",
        "colab_type": "text"
      },
      "source": [
        "<a href=\"https://colab.research.google.com/github/MithunCm29/MachineLearning/blob/main/iris_decision_tree.ipynb\" target=\"_parent\"><img src=\"https://colab.research.google.com/assets/colab-badge.svg\" alt=\"Open In Colab\"/></a>"
      ]
    },
    {
      "cell_type": "code",
      "metadata": {
        "colab": {
          "base_uri": "https://localhost:8080/"
        },
        "id": "8U5ZeyxT0988",
        "outputId": "687e6c34-25b4-4fb5-89fe-a0e570f80ebb"
      },
      "source": [
        "import pandas as pd\n",
        "import numpy as np\n",
        "from sklearn.datasets import load_iris \n",
        "data=load_iris()\n",
        "x=data.data\n",
        "y=data.target\n",
        "names = data.target_names\n",
        "feature_names = data.feature_names\n",
        "print(names)\n",
        "print(feature_names)"
      ],
      "execution_count": null,
      "outputs": [
        {
          "output_type": "stream",
          "text": [
            "['setosa' 'versicolor' 'virginica']\n",
            "['sepal length (cm)', 'sepal width (cm)', 'petal length (cm)', 'petal width (cm)']\n"
          ],
          "name": "stdout"
        }
      ]
    },
    {
      "cell_type": "code",
      "metadata": {
        "colab": {
          "base_uri": "https://localhost:8080/",
          "height": 1000
        },
        "id": "-z8PbmIP3hKw",
        "outputId": "bbe78332-b6b2-40a7-82d9-413aa44480ba"
      },
      "source": [
        "from sklearn.model_selection import train_test_split\n",
        "X_train, X_test, Y_train, Y_test=train_test_split(x, y, random_state=50, test_size=0.20)\n",
        "display(X_train.shape, X_test.shape, Y_train.shape, Y_test.shape)\n",
        "print(X_train)\n",
        "print(Y_train)"
      ],
      "execution_count": null,
      "outputs": [
        {
          "output_type": "display_data",
          "data": {
            "text/plain": [
              "(120, 4)"
            ]
          },
          "metadata": {
            "tags": []
          }
        },
        {
          "output_type": "display_data",
          "data": {
            "text/plain": [
              "(30, 4)"
            ]
          },
          "metadata": {
            "tags": []
          }
        },
        {
          "output_type": "display_data",
          "data": {
            "text/plain": [
              "(120,)"
            ]
          },
          "metadata": {
            "tags": []
          }
        },
        {
          "output_type": "display_data",
          "data": {
            "text/plain": [
              "(30,)"
            ]
          },
          "metadata": {
            "tags": []
          }
        },
        {
          "output_type": "stream",
          "text": [
            "[[7.2 3.2 6.  1.8]\n",
            " [5.1 2.5 3.  1.1]\n",
            " [6.1 2.8 4.7 1.2]\n",
            " [6.7 3.3 5.7 2.5]\n",
            " [5.1 3.7 1.5 0.4]\n",
            " [4.6 3.1 1.5 0.2]\n",
            " [5.2 2.7 3.9 1.4]\n",
            " [6.  2.2 5.  1.5]\n",
            " [5.4 3.  4.5 1.5]\n",
            " [5.  3.4 1.5 0.2]\n",
            " [4.5 2.3 1.3 0.3]\n",
            " [4.9 2.4 3.3 1. ]\n",
            " [6.5 3.  5.8 2.2]\n",
            " [4.4 2.9 1.4 0.2]\n",
            " [7.1 3.  5.9 2.1]\n",
            " [5.1 3.5 1.4 0.3]\n",
            " [4.4 3.2 1.3 0.2]\n",
            " [5.7 3.8 1.7 0.3]\n",
            " [6.3 2.5 5.  1.9]\n",
            " [5.8 2.8 5.1 2.4]\n",
            " [6.6 3.  4.4 1.4]\n",
            " [5.4 3.9 1.7 0.4]\n",
            " [5.7 4.4 1.5 0.4]\n",
            " [6.1 2.9 4.7 1.4]\n",
            " [5.8 2.7 5.1 1.9]\n",
            " [5.7 2.8 4.1 1.3]\n",
            " [7.  3.2 4.7 1.4]\n",
            " [5.2 3.5 1.5 0.2]\n",
            " [4.4 3.  1.3 0.2]\n",
            " [7.7 2.8 6.7 2. ]\n",
            " [7.7 3.8 6.7 2.2]\n",
            " [6.4 2.9 4.3 1.3]\n",
            " [6.3 2.9 5.6 1.8]\n",
            " [5.  3.5 1.3 0.3]\n",
            " [4.9 3.6 1.4 0.1]\n",
            " [6.5 3.  5.5 1.8]\n",
            " [6.  2.9 4.5 1.5]\n",
            " [5.  3.6 1.4 0.2]\n",
            " [5.5 2.3 4.  1.3]\n",
            " [5.1 3.8 1.9 0.4]\n",
            " [7.3 2.9 6.3 1.8]\n",
            " [6.4 3.1 5.5 1.8]\n",
            " [6.7 3.1 4.4 1.4]\n",
            " [6.4 2.8 5.6 2.1]\n",
            " [5.6 2.5 3.9 1.1]\n",
            " [4.6 3.2 1.4 0.2]\n",
            " [6.3 2.3 4.4 1.3]\n",
            " [5.2 4.1 1.5 0.1]\n",
            " [5.5 2.5 4.  1.3]\n",
            " [6.9 3.1 4.9 1.5]\n",
            " [4.7 3.2 1.6 0.2]\n",
            " [4.9 3.1 1.5 0.1]\n",
            " [5.9 3.  4.2 1.5]\n",
            " [4.9 3.  1.4 0.2]\n",
            " [6.  2.7 5.1 1.6]\n",
            " [4.8 3.  1.4 0.3]\n",
            " [5.5 2.6 4.4 1.2]\n",
            " [6.1 3.  4.9 1.8]\n",
            " [7.2 3.  5.8 1.6]\n",
            " [7.7 3.  6.1 2.3]\n",
            " [6.6 2.9 4.6 1.3]\n",
            " [6.3 2.7 4.9 1.8]\n",
            " [5.5 3.5 1.3 0.2]\n",
            " [5.8 2.7 5.1 1.9]\n",
            " [4.3 3.  1.1 0.1]\n",
            " [6.  2.2 4.  1. ]\n",
            " [5.1 3.8 1.6 0.2]\n",
            " [6.3 3.4 5.6 2.4]\n",
            " [4.8 3.4 1.9 0.2]\n",
            " [5.2 3.4 1.4 0.2]\n",
            " [6.  3.  4.8 1.8]\n",
            " [5.9 3.  5.1 1.8]\n",
            " [6.9 3.2 5.7 2.3]\n",
            " [6.7 3.3 5.7 2.1]\n",
            " [4.8 3.4 1.6 0.2]\n",
            " [6.2 3.4 5.4 2.3]\n",
            " [5.6 2.7 4.2 1.3]\n",
            " [6.7 2.5 5.8 1.8]\n",
            " [5.  2.3 3.3 1. ]\n",
            " [5.1 3.5 1.4 0.2]\n",
            " [6.4 3.2 4.5 1.5]\n",
            " [6.5 3.2 5.1 2. ]\n",
            " [5.4 3.7 1.5 0.2]\n",
            " [6.2 2.8 4.8 1.8]\n",
            " [5.8 2.7 4.1 1. ]\n",
            " [5.7 2.9 4.2 1.3]\n",
            " [6.8 2.8 4.8 1.4]\n",
            " [5.6 3.  4.5 1.5]\n",
            " [5.6 2.8 4.9 2. ]\n",
            " [5.  2.  3.5 1. ]\n",
            " [5.  3.4 1.6 0.4]\n",
            " [6.4 3.2 5.3 2.3]\n",
            " [5.  3.2 1.2 0.2]\n",
            " [7.6 3.  6.6 2.1]\n",
            " [4.8 3.1 1.6 0.2]\n",
            " [5.7 2.6 3.5 1. ]\n",
            " [6.9 3.1 5.1 2.3]\n",
            " [5.1 3.8 1.5 0.3]\n",
            " [4.6 3.4 1.4 0.3]\n",
            " [5.6 2.9 3.6 1.3]\n",
            " [4.9 2.5 4.5 1.7]\n",
            " [6.  3.4 4.5 1.6]\n",
            " [5.  3.3 1.4 0.2]\n",
            " [5.4 3.4 1.5 0.4]\n",
            " [5.  3.5 1.6 0.6]\n",
            " [6.1 2.6 5.6 1.4]\n",
            " [6.1 3.  4.6 1.4]\n",
            " [5.8 2.6 4.  1.2]\n",
            " [6.4 2.7 5.3 1.9]\n",
            " [6.1 2.8 4.  1.3]\n",
            " [5.7 3.  4.2 1.2]\n",
            " [4.7 3.2 1.3 0.2]\n",
            " [6.3 2.8 5.1 1.5]\n",
            " [4.6 3.6 1.  0.2]\n",
            " [6.7 3.  5.2 2.3]\n",
            " [5.9 3.2 4.8 1.8]\n",
            " [6.4 2.8 5.6 2.2]\n",
            " [5.5 4.2 1.4 0.2]\n",
            " [7.2 3.6 6.1 2.5]\n",
            " [6.9 3.1 5.4 2.1]]\n",
            "[2 1 1 2 0 0 1 2 1 0 0 1 2 0 2 0 0 0 2 2 1 0 0 1 2 1 1 0 0 2 2 1 2 0 0 2 1\n",
            " 0 1 0 2 2 1 2 1 0 1 0 1 1 0 0 1 0 1 0 1 2 2 2 1 2 0 2 0 1 0 2 0 0 2 2 2 2\n",
            " 0 2 1 2 1 0 1 2 0 2 1 1 1 1 2 1 0 2 0 2 0 1 2 0 0 1 2 1 0 0 0 2 1 1 2 1 1\n",
            " 0 2 0 2 1 2 0 2 2]\n"
          ],
          "name": "stdout"
        }
      ]
    },
    {
      "cell_type": "code",
      "metadata": {
        "colab": {
          "base_uri": "https://localhost:8080/"
        },
        "id": "EAvFJBHy4iCp",
        "outputId": "df3ad2f5-64aa-4c0b-ac62-b9765c9552db"
      },
      "source": [
        "from sklearn.tree import DecisionTreeClassifier\n",
        "clf= DecisionTreeClassifier()\n",
        "model=clf.fit(X_train, Y_train)\n",
        "from sklearn.metrics import accuracy_score\n",
        "print(\"The Accuracy in train set: \",accuracy_score(y_true=Y_train, y_pred=clf.predict(X_train)))\n",
        "print(\"The Accuracy in test set: \",accuracy_score(y_true=Y_test, y_pred=clf.predict(X_test)))"
      ],
      "execution_count": null,
      "outputs": [
        {
          "output_type": "stream",
          "text": [
            "The Accuracy in train set:  1.0\n",
            "The Accuracy in test set:  0.9666666666666667\n"
          ],
          "name": "stdout"
        }
      ]
    },
    {
      "cell_type": "code",
      "metadata": {
        "colab": {
          "base_uri": "https://localhost:8080/"
        },
        "id": "Q3uaUpTWA5zF",
        "outputId": "b91ecc24-9ca4-45fc-96ba-7a3ff3798268"
      },
      "source": [
        "from sklearn.naive_bayes import GaussianNB\n",
        "gnb = GaussianNB()\n",
        "model1= gnb.fit(X_train, Y_train)\n",
        "print(\"The Accuracy in train set: \",accuracy_score(y_true=Y_train, y_pred=gnb.predict(X_train)))\n",
        "print(\"The Accuracy in test set: \",accuracy_score(y_true=Y_test, y_pred=gnb.predict(X_test)))"
      ],
      "execution_count": null,
      "outputs": [
        {
          "output_type": "stream",
          "text": [
            "The Accuracy in train set:  0.95\n",
            "The Accuracy in test set:  0.9333333333333333\n"
          ],
          "name": "stdout"
        }
      ]
    },
    {
      "cell_type": "code",
      "metadata": {
        "colab": {
          "base_uri": "https://localhost:8080/"
        },
        "id": "N7lpNy_fBaX2",
        "outputId": "c0f6e182-2bc2-47c1-87e5-239a1cfcf254"
      },
      "source": [
        "#Preprocessed data for MLP\n",
        "from sklearn.datasets import load_iris\n",
        "from sklearn.model_selection import train_test_split\n",
        "from sklearn.preprocessing import OneHotEncoder, StandardScaler\n",
        "enc = OneHotEncoder()\n",
        "Y = enc.fit_transform(y[:, np.newaxis]).toarray()\n",
        "\n",
        "# Scale data to have mean 0 and variance 1 \n",
        "# which is importance for convergence of the neural network\n",
        "scaler = StandardScaler()\n",
        "X_scaled = scaler.fit_transform(x)\n",
        "\n",
        "# Split the data set into training and testing\n",
        "X_train, X_test, Y_train, Y_test = train_test_split(\n",
        "    X_scaled, Y, test_size=0.2, random_state=2)\n",
        "\n",
        "n_features = x.shape[1]\n",
        "n_classes = Y.shape[1]\n",
        "print(n_features)\n",
        "print(n_classes)"
      ],
      "execution_count": null,
      "outputs": [
        {
          "output_type": "stream",
          "text": [
            "4\n",
            "3\n"
          ],
          "name": "stdout"
        }
      ]
    },
    {
      "cell_type": "code",
      "metadata": {
        "colab": {
          "base_uri": "https://localhost:8080/"
        },
        "id": "MKgUsQ76Akmb",
        "outputId": "549dc169-6023-4a41-e5e4-cc903fdb40dd"
      },
      "source": [
        "from keras.models import Sequential\n",
        "from keras.layers import Dense\n",
        "\n",
        "def create_custom_model(input_dim, output_dim, nodes, n=1, name='model'):\n",
        "    def create_model():\n",
        "        # Create model\n",
        "        model = Sequential(name=name)\n",
        "        for i in range(n):\n",
        "            model.add(Dense(nodes, input_dim=input_dim, activation='relu'))\n",
        "        model.add(Dense(output_dim, activation='softmax'))\n",
        "\n",
        "        # Compile model\n",
        "        model.compile(loss='categorical_crossentropy', \n",
        "                      optimizer='adam', \n",
        "                      metrics=['accuracy'])\n",
        "        return model\n",
        "    return create_model\n",
        "\n",
        "models = [create_custom_model(n_features, n_classes, 8, i, 'model_{}'.format(i)) \n",
        "          for i in range(1, 4)]\n",
        "\n",
        "for create_model in models:\n",
        "    create_model().summary()"
      ],
      "execution_count": null,
      "outputs": [
        {
          "output_type": "stream",
          "text": [
            "Model: \"model_1\"\n",
            "_________________________________________________________________\n",
            "Layer (type)                 Output Shape              Param #   \n",
            "=================================================================\n",
            "dense_112 (Dense)            (None, 8)                 40        \n",
            "_________________________________________________________________\n",
            "dense_113 (Dense)            (None, 3)                 27        \n",
            "=================================================================\n",
            "Total params: 67\n",
            "Trainable params: 67\n",
            "Non-trainable params: 0\n",
            "_________________________________________________________________\n",
            "Model: \"model_2\"\n",
            "_________________________________________________________________\n",
            "Layer (type)                 Output Shape              Param #   \n",
            "=================================================================\n",
            "dense_114 (Dense)            (None, 8)                 40        \n",
            "_________________________________________________________________\n",
            "dense_115 (Dense)            (None, 8)                 72        \n",
            "_________________________________________________________________\n",
            "dense_116 (Dense)            (None, 3)                 27        \n",
            "=================================================================\n",
            "Total params: 139\n",
            "Trainable params: 139\n",
            "Non-trainable params: 0\n",
            "_________________________________________________________________\n",
            "Model: \"model_3\"\n",
            "_________________________________________________________________\n",
            "Layer (type)                 Output Shape              Param #   \n",
            "=================================================================\n",
            "dense_117 (Dense)            (None, 8)                 40        \n",
            "_________________________________________________________________\n",
            "dense_118 (Dense)            (None, 8)                 72        \n",
            "_________________________________________________________________\n",
            "dense_119 (Dense)            (None, 8)                 72        \n",
            "_________________________________________________________________\n",
            "dense_120 (Dense)            (None, 3)                 27        \n",
            "=================================================================\n",
            "Total params: 211\n",
            "Trainable params: 211\n",
            "Non-trainable params: 0\n",
            "_________________________________________________________________\n"
          ],
          "name": "stdout"
        }
      ]
    },
    {
      "cell_type": "code",
      "metadata": {
        "colab": {
          "base_uri": "https://localhost:8080/"
        },
        "id": "SbQZxPrsCfh8",
        "outputId": "210e9c55-25d4-4150-ad85-c2a9b3dd42d2"
      },
      "source": [
        "from keras.callbacks import TensorBoard\n",
        "\n",
        "history_dict = {}\n",
        "\n",
        "# TensorBoard Callback\n",
        "cb = TensorBoard()\n",
        "\n",
        "for create_model in models:\n",
        "    model = create_model()\n",
        "    print('Model name:', model.name)\n",
        "    history_callback = model.fit(X_train, Y_train,\n",
        "                                 batch_size=5,\n",
        "                                 epochs=50,\n",
        "                                 verbose=0,\n",
        "                                 validation_data=(X_test, Y_test),\n",
        "                                 callbacks=[cb])\n",
        "    score = model.evaluate(X_test, Y_test, verbose=0)\n",
        "    s1=model.evaluate(X_train, Y_train)\n",
        "    print('Test loss:', score[0])\n",
        "    print('Test accuracy:', score[1])\n",
        "    print('Train loss:', s1[0])\n",
        "    print('Train Accuracy:',s1[1])\n",
        "    \n",
        "    history_dict[model.name] = [history_callback, model]"
      ],
      "execution_count": null,
      "outputs": [
        {
          "output_type": "stream",
          "text": [
            "Model name: model_1\n",
            "4/4 [==============================] - 0s 3ms/step - loss: 0.2165 - accuracy: 0.9333\n",
            "Test loss: 0.21383020281791687\n",
            "Test accuracy: 0.9333333373069763\n",
            "Train loss: 0.21649904549121857\n",
            "Train Accuracy: 0.9333333373069763\n",
            "Model name: model_2\n",
            "4/4 [==============================] - 0s 4ms/step - loss: 0.0837 - accuracy: 0.9750\n",
            "Test loss: 0.15897171199321747\n",
            "Test accuracy: 0.9333333373069763\n",
            "Train loss: 0.08369337767362595\n",
            "Train Accuracy: 0.9750000238418579\n",
            "Model name: model_3\n",
            "4/4 [==============================] - 0s 4ms/step - loss: 0.0725 - accuracy: 0.9667\n",
            "Test loss: 0.12398666888475418\n",
            "Test accuracy: 0.9333333373069763\n",
            "Train loss: 0.07250497490167618\n",
            "Train Accuracy: 0.9666666388511658\n"
          ],
          "name": "stdout"
        }
      ]
    }
  ]
}