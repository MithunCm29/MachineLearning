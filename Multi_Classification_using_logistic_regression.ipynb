{
  "nbformat": 4,
  "nbformat_minor": 0,
  "metadata": {
    "colab": {
      "name": "Multi_Classification_using_logistic_regression.ipynb",
      "provenance": [],
      "toc_visible": true,
      "authorship_tag": "ABX9TyNzoftrSpXTG53GXdbvcFfA",
      "include_colab_link": true
    },
    "kernelspec": {
      "name": "python3",
      "display_name": "Python 3"
    },
    "language_info": {
      "name": "python"
    }
  },
  "cells": [
    {
      "cell_type": "markdown",
      "metadata": {
        "id": "view-in-github",
        "colab_type": "text"
      },
      "source": [
        "<a href=\"https://colab.research.google.com/github/MithunCm29/MachineLearning/blob/main/Multi_Classification_using_logistic_regression.ipynb\" target=\"_parent\"><img src=\"https://colab.research.google.com/assets/colab-badge.svg\" alt=\"Open In Colab\"/></a>"
      ]
    },
    {
      "cell_type": "code",
      "metadata": {
        "id": "cPHv2kKKfYVW"
      },
      "source": [
        ""
      ],
      "execution_count": null,
      "outputs": []
    },
    {
      "cell_type": "code",
      "metadata": {
        "colab": {
          "base_uri": "https://localhost:8080/"
        },
        "id": "NDEjJRsvfb7R",
        "outputId": "18abe863-e8f2-4527-c342-fbd8f46aad7d"
      },
      "source": [
        " ! pip install --upgrade mxnet-cu100"
      ],
      "execution_count": null,
      "outputs": [
        {
          "output_type": "stream",
          "text": [
            "Collecting mxnet-cu100\n",
            "\u001b[?25l  Downloading https://files.pythonhosted.org/packages/85/09/a13d45136ce70589cceee4081f485f8f47fc5eb716d07981d4c2547763df/mxnet_cu100-1.8.0.post0-py2.py3-none-manylinux2014_x86_64.whl (352.6MB)\n",
            "\u001b[K     |████████████████████████████████| 352.6MB 45kB/s \n",
            "\u001b[?25hRequirement already satisfied, skipping upgrade: requests<3,>=2.20.0 in /usr/local/lib/python3.7/dist-packages (from mxnet-cu100) (2.23.0)\n",
            "Requirement already satisfied, skipping upgrade: numpy<2.0.0,>1.16.0 in /usr/local/lib/python3.7/dist-packages (from mxnet-cu100) (1.19.5)\n",
            "Collecting graphviz<0.9.0,>=0.8.1\n",
            "  Downloading https://files.pythonhosted.org/packages/53/39/4ab213673844e0c004bed8a0781a0721a3f6bb23eb8854ee75c236428892/graphviz-0.8.4-py2.py3-none-any.whl\n",
            "Requirement already satisfied, skipping upgrade: chardet<4,>=3.0.2 in /usr/local/lib/python3.7/dist-packages (from requests<3,>=2.20.0->mxnet-cu100) (3.0.4)\n",
            "Requirement already satisfied, skipping upgrade: urllib3!=1.25.0,!=1.25.1,<1.26,>=1.21.1 in /usr/local/lib/python3.7/dist-packages (from requests<3,>=2.20.0->mxnet-cu100) (1.24.3)\n",
            "Requirement already satisfied, skipping upgrade: idna<3,>=2.5 in /usr/local/lib/python3.7/dist-packages (from requests<3,>=2.20.0->mxnet-cu100) (2.10)\n",
            "Requirement already satisfied, skipping upgrade: certifi>=2017.4.17 in /usr/local/lib/python3.7/dist-packages (from requests<3,>=2.20.0->mxnet-cu100) (2021.5.30)\n",
            "Installing collected packages: graphviz, mxnet-cu100\n",
            "  Found existing installation: graphviz 0.10.1\n",
            "    Uninstalling graphviz-0.10.1:\n",
            "      Successfully uninstalled graphviz-0.10.1\n",
            "Successfully installed graphviz-0.8.4 mxnet-cu100-1.8.0.post0\n"
          ],
          "name": "stdout"
        }
      ]
    },
    {
      "cell_type": "code",
      "metadata": {
        "id": "7jFp8HOpzRan"
      },
      "source": [
        "#In this program we have more than one class\n",
        "#We used One vs all method . We work with class, that class is denoted by1 and the rest of classes becomes 0\n",
        "#Here We used Softmax function for activation\n",
        "from __future__ import print_function\n",
        "import numpy as np\n",
        "import mxnet as mx\n",
        "from mxnet import nd, autograd, gluon\n",
        "mx.random.seed(1)"
      ],
      "execution_count": null,
      "outputs": []
    },
    {
      "cell_type": "code",
      "metadata": {
        "id": "a0J0yCfmgAPR"
      },
      "source": [
        "data_ctx = mx.cpu()\n",
        "model_ctx = mx.cpu() "
      ],
      "execution_count": null,
      "outputs": []
    },
    {
      "cell_type": "code",
      "metadata": {
        "colab": {
          "base_uri": "https://localhost:8080/"
        },
        "id": "txUAhpq5gQXz",
        "outputId": "f6260f5b-5170-4203-ba9a-5c3c1dcf3a66"
      },
      "source": [
        "def transform(data, label):\n",
        "    return data.astype(np.float32)/255, label.astype(np.float32)\n",
        "mnist_train = gluon.data.vision.MNIST(train=True, transform=transform)\n",
        "mnist_test = gluon.data.vision.MNIST(train=False, transform=transform)"
      ],
      "execution_count": null,
      "outputs": [
        {
          "output_type": "stream",
          "text": [
            "Downloading /root/.mxnet/datasets/mnist/train-images-idx3-ubyte.gz from https://apache-mxnet.s3-accelerate.dualstack.amazonaws.com/gluon/dataset/mnist/train-images-idx3-ubyte.gz...\n",
            "Downloading /root/.mxnet/datasets/mnist/train-labels-idx1-ubyte.gz from https://apache-mxnet.s3-accelerate.dualstack.amazonaws.com/gluon/dataset/mnist/train-labels-idx1-ubyte.gz...\n",
            "Downloading /root/.mxnet/datasets/mnist/t10k-images-idx3-ubyte.gz from https://apache-mxnet.s3-accelerate.dualstack.amazonaws.com/gluon/dataset/mnist/t10k-images-idx3-ubyte.gz...\n",
            "Downloading /root/.mxnet/datasets/mnist/t10k-labels-idx1-ubyte.gz from https://apache-mxnet.s3-accelerate.dualstack.amazonaws.com/gluon/dataset/mnist/t10k-labels-idx1-ubyte.gz...\n"
          ],
          "name": "stdout"
        }
      ]
    },
    {
      "cell_type": "code",
      "metadata": {
        "colab": {
          "base_uri": "https://localhost:8080/"
        },
        "id": "V4F_TrscgXri",
        "outputId": "1e5cf675-d979-4c54-f1f2-ac597d8b3a0e"
      },
      "source": [
        "image, label = mnist_train[0]\n",
        "print(image.shape, label)"
      ],
      "execution_count": null,
      "outputs": [
        {
          "output_type": "stream",
          "text": [
            "(28, 28, 1) 5.0\n"
          ],
          "name": "stdout"
        }
      ]
    },
    {
      "cell_type": "code",
      "metadata": {
        "id": "_Py_RE4dgxYM"
      },
      "source": [
        "num_inputs = 784\n",
        "num_outputs = 10\n",
        "num_examples = 60000"
      ],
      "execution_count": null,
      "outputs": []
    },
    {
      "cell_type": "code",
      "metadata": {
        "colab": {
          "base_uri": "https://localhost:8080/"
        },
        "id": "IGM4Z8i0g50k",
        "outputId": "a07ff653-7296-4a35-89ae-f7f817fd0720"
      },
      "source": [
        "im = mx.nd.tile(image, (1,1,3))\n",
        "print(im.shape)"
      ],
      "execution_count": null,
      "outputs": [
        {
          "output_type": "stream",
          "text": [
            "(28, 28, 3)\n"
          ],
          "name": "stdout"
        }
      ]
    },
    {
      "cell_type": "code",
      "metadata": {
        "colab": {
          "base_uri": "https://localhost:8080/",
          "height": 265
        },
        "id": "L9PkCr0HhCib",
        "outputId": "f9a0ce16-8c0f-4764-c7f1-cf1794232f67"
      },
      "source": [
        "import matplotlib.pyplot as plt\n",
        "plt.imshow(im.asnumpy())\n",
        "plt.show()"
      ],
      "execution_count": null,
      "outputs": [
        {
          "output_type": "display_data",
          "data": {
            "image/png": "[encoded data removed]",
            "text/plain": [
              "<Figure size 432x288 with 1 Axes>"
            ]
          },
          "metadata": {
            "tags": [],
            "needs_background": "light"
          }
        }
      ]
    },
    {
      "cell_type": "code",
      "metadata": {
        "colab": {
          "base_uri": "https://localhost:8080/"
        },
        "id": "Cyvm07b9hRP2",
        "outputId": "6a74a6e1-f95c-4930-e5a9-0fe22985eece"
      },
      "source": [
        "batch_size = 64\n",
        "train_data = mx.gluon.data.DataLoader(mnist_train, batch_size, shuffle=True)\n",
        "test_data = mx.gluon.data.DataLoader(mnist_test, batch_size, shuffle=False)\n",
        "W = nd.random_normal(shape=(num_inputs, num_outputs),ctx=model_ctx)\n",
        "b = nd.random_normal(shape=num_outputs,ctx=model_ctx)\n",
        "\n",
        "params = [W, b]\n",
        "print(W,b)"
      ],
      "execution_count": null,
      "outputs": [
        {
          "output_type": "stream",
          "text": [
            "\n",
            "[[-0.7637477   0.8132507   0.93579346 ... -0.28716376 -0.5686769\n",
            "   0.86864537]\n",
            " [ 0.5096033  -0.44336858 -0.5278638  ... -1.3124158   0.5881744\n",
            "   0.3645647 ]\n",
            " [ 0.13773616 -0.2904533   1.0496416  ... -0.7711659  -0.04313663\n",
            "  -0.05840689]\n",
            " ...\n",
            " [-0.04354644  0.6713238  -0.24468939 ... -0.08005722 -0.5852295\n",
            "  -0.14052571]\n",
            " [ 0.1455451  -0.12130161  0.07242323 ...  0.53267854  1.6385419\n",
            "  -3.1453395 ]\n",
            " [-1.4977777  -2.3844624  -0.12073093 ... -1.2506124   1.9484453\n",
            "  -0.8560787 ]]\n",
            "<NDArray 784x10 @cpu(0)> \n",
            "[ 0.07038765 -1.5526806  -1.009325   -0.47292903 -0.3531269   0.80765224\n",
            " -0.9618061  -0.628697   -0.72768885 -0.9264513 ]\n",
            "<NDArray 10 @cpu(0)>\n"
          ],
          "name": "stdout"
        }
      ]
    },
    {
      "cell_type": "code",
      "metadata": {
        "colab": {
          "base_uri": "https://localhost:8080/"
        },
        "id": "l6bXUe31iCFp",
        "outputId": "b32427f2-fcb3-4386-eca5-2de64f18971f"
      },
      "source": [
        "for param in params:\n",
        "    param.attach_grad()\n",
        "print(param)"
      ],
      "execution_count": null,
      "outputs": [
        {
          "output_type": "stream",
          "text": [
            "\n",
            "[ 0.07038765 -1.5526806  -1.009325   -0.47292903 -0.3531269   0.80765224\n",
            " -0.9618061  -0.628697   -0.72768885 -0.9264513 ]\n",
            "<NDArray 10 @cpu(0)>\n"
          ],
          "name": "stdout"
        }
      ]
    },
    {
      "cell_type": "code",
      "metadata": {
        "colab": {
          "base_uri": "https://localhost:8080/"
        },
        "id": "opOF2Kvfnviw",
        "outputId": "ac514073-fc1d-41ec-c911-0b221bce4fb6"
      },
      "source": [
        "def softmax(y_linear):\n",
        "    exp = nd.exp(y_linear-nd.max(y_linear, axis=1).reshape((-1,1)))\n",
        "    norms = nd.sum(exp, axis=1).reshape((-1,1))\n",
        "    return exp / norms\n",
        "sample_y_linear = nd.random_normal(shape=(2,10))\n",
        "sample_yhat = softmax(sample_y_linear)\n",
        "print(sample_yhat)\n",
        "print(nd.sum(sample_yhat, axis=1))"
      ],
      "execution_count": null,
      "outputs": [
        {
          "output_type": "stream",
          "text": [
            "\n",
            "[[0.37602234 0.01054419 0.03734268 0.0339198  0.04515602 0.07530785\n",
            "  0.1562652  0.08775889 0.1267912  0.05089178]\n",
            " [0.05164693 0.02814769 0.04309661 0.05293715 0.05930832 0.03224321\n",
            "  0.01246455 0.05107995 0.10779051 0.561285  ]]\n",
            "<NDArray 2x10 @cpu(0)>\n",
            "\n",
            "[0.99999994 0.99999994]\n",
            "<NDArray 2 @cpu(0)>\n"
          ],
          "name": "stdout"
        }
      ]
    },
    {
      "cell_type": "code",
      "metadata": {
        "colab": {
          "base_uri": "https://localhost:8080/"
        },
        "id": "_yHfsFXioM0R",
        "outputId": "2b4a418c-364c-4007-98af-012af294817f"
      },
      "source": [
        "def net(X):\n",
        "    y_linear = nd.dot(X, W) + b\n",
        "    yhat = softmax(y_linear)\n",
        "    return yhat\n",
        "def cross_entropy(yhat, y):\n",
        "    return - nd.sum(y * nd.log(yhat+1e-6))\n",
        "def SGD(params, lr):\n",
        "    for param in params:\n",
        "        param[:] = param - lr * param.grad\n",
        "def evaluate_accuracy(data_iterator, net):\n",
        "    numerator = 0.\n",
        "    denominator = 0.\n",
        "    for i, (data, label) in enumerate(data_iterator):\n",
        "        data = data.as_in_context(model_ctx).reshape((-1,784))\n",
        "        label = label.as_in_context(model_ctx)\n",
        "        label_one_hot = nd.one_hot(label, 10)\n",
        "        output = net(data)\n",
        "        predictions = nd.argmax(output, axis=1)\n",
        "        numerator += nd.sum(predictions == label)\n",
        "        denominator += data.shape[0]\n",
        "    return (numerator / denominator).asscalar()\n",
        "evaluate_accuracy(test_data, net)"
      ],
      "execution_count": null,
      "outputs": [
        {
          "output_type": "execute_result",
          "data": {
            "text/plain": [
              "0.0758"
            ]
          },
          "metadata": {
            "tags": []
          },
          "execution_count": 22
        }
      ]
    },
    {
      "cell_type": "code",
      "metadata": {
        "colab": {
          "base_uri": "https://localhost:8080/"
        },
        "id": "xFkJKcxloBmv",
        "outputId": "40178235-5258-4fb6-cd1e-cb1d3ce630d6"
      },
      "source": [
        "#Trainig\n",
        "epochs = 5\n",
        "learning_rate = .005\n",
        "\n",
        "for e in range(epochs):\n",
        "    cumulative_loss = 0\n",
        "    for i, (data, label) in enumerate(train_data):\n",
        "        data = data.as_in_context(model_ctx).reshape((-1,784))\n",
        "        label = label.as_in_context(model_ctx)\n",
        "        label_one_hot = nd.one_hot(label, 10)\n",
        "        with autograd.record():\n",
        "            output = net(data)\n",
        "            loss = cross_entropy(output, label_one_hot)\n",
        "        loss.backward()\n",
        "        SGD(params, learning_rate)\n",
        "        cumulative_loss += nd.sum(loss).asscalar()\n",
        "\n",
        "\n",
        "    test_accuracy = evaluate_accuracy(test_data, net)\n",
        "    train_accuracy = evaluate_accuracy(train_data, net)\n",
        "    print(\"Epoch %s. Loss: %s, Train_acc %s, Test_acc %s\" % (e, cumulative_loss/num_examples, train_accuracy, test_accuracy))\n"
      ],
      "execution_count": null,
      "outputs": [
        {
          "output_type": "stream",
          "text": [
            "Epoch 0. Loss: 1.2142378908316294, Train_acc 0.8609167, Test_acc 0.8671\n",
            "Epoch 1. Loss: 0.585679920955499, Train_acc 0.8811833, Test_acc 0.8854\n",
            "Epoch 2. Loss: 0.4982278858661652, Train_acc 0.8911833, Test_acc 0.895\n",
            "Epoch 3. Loss: 0.4517723655362924, Train_acc 0.89765, Test_acc 0.9006\n",
            "Epoch 4. Loss: 0.4218993454655012, Train_acc 0.9004167, Test_acc 0.9033\n"
          ],
          "name": "stdout"
        }
      ]
    },
    {
      "cell_type": "code",
      "metadata": {
        "colab": {
          "base_uri": "https://localhost:8080/",
          "height": 153
        },
        "id": "bgsraB4ppLvY",
        "outputId": "007b256f-4658-4c0b-c2ea-befb216e9c5a"
      },
      "source": [
        "# Define the function to do prediction\n",
        "def model_predict(net,data):\n",
        "    output = net(data)\n",
        "    return nd.argmax(output, axis=1)\n",
        "\n",
        "# let's sample 10 random data points from the test set\n",
        "sample_data = mx.gluon.data.DataLoader(mnist_test, 10, shuffle=True)\n",
        "for i, (data, label) in enumerate(sample_data):\n",
        "    data = data.as_in_context(model_ctx)\n",
        "    print(data.shape)\n",
        "    im = nd.transpose(data,(1,0,2,3))\n",
        "    im = nd.reshape(im,(28,10*28,1))\n",
        "    imtiles = nd.tile(im, (1,1,3))\n",
        "\n",
        "    plt.imshow(imtiles.asnumpy())\n",
        "    plt.show()\n",
        "    pred=model_predict(net,data.reshape((-1,784)))\n",
        "    print('model predictions are:', pred)\n",
        "    break"
      ],
      "execution_count": null,
      "outputs": [
        {
          "output_type": "stream",
          "text": [
            "(10, 28, 28, 1)\n"
          ],
          "name": "stdout"
        },
        {
          "output_type": "display_data",
          "data": {
            "image/png": "[encoded data removed]",
            "text/plain": [
              "<Figure size 432x288 with 1 Axes>"
            ]
          },
          "metadata": {
            "tags": [],
            "needs_background": "light"
          }
        },
        {
          "output_type": "stream",
          "text": [
            "model predictions are: \n",
            "[2. 3. 9. 1. 8. 6. 5. 8. 6. 9.]\n",
            "<NDArray 10 @cpu(0)>\n"
          ],
          "name": "stdout"
        }
      ]
    }
  ]
}